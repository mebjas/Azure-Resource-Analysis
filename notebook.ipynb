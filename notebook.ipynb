{
 "cells": [
  {
   "cell_type": "markdown",
   "metadata": {},
   "source": [
    "## Experiments"
   ]
  },
  {
   "cell_type": "code",
   "execution_count": 267,
   "metadata": {
    "collapsed": true
   },
   "outputs": [],
   "source": [
    "import numpy as np\n",
    "import pandas as pd\n",
    "import matplotlib.pyplot as plt\n",
    "import matplotlib as mpl\n",
    "import seaborn as sns\n",
    "\n",
    "%matplotlib inline"
   ]
  },
  {
   "cell_type": "code",
   "execution_count": 268,
   "metadata": {},
   "outputs": [],
   "source": [
    "from sklearn.feature_extraction.text import CountVectorizer\n",
    "from sklearn.cluster import KMeans\n",
    "from sklearn.cluster import DBSCAN\n",
    "from sklearn.manifold import TSNE"
   ]
  },
  {
   "cell_type": "code",
   "execution_count": 269,
   "metadata": {
    "collapsed": true
   },
   "outputs": [],
   "source": [
    "df = pd.read_csv(\"dataset/dataset.csv\")"
   ]
  },
  {
   "cell_type": "code",
   "execution_count": 270,
   "metadata": {},
   "outputs": [
    {
     "name": "stdout",
     "output_type": "stream",
     "text": [
      "No of rows & columns (965, 7)\n"
     ]
    }
   ],
   "source": [
    "print (\"No of rows & columns\", df.shape)"
   ]
  },
  {
   "cell_type": "code",
   "execution_count": 271,
   "metadata": {},
   "outputs": [
    {
     "data": {
      "text/plain": [
       "Index(['Aggregation Type', 'Description', 'Dimensions', 'Metric',\n",
       "       'Metric Display Name', 'Unit', 'resource'],\n",
       "      dtype='object')"
      ]
     },
     "execution_count": 271,
     "metadata": {},
     "output_type": "execute_result"
    }
   ],
   "source": [
    "## Columns\n",
    "df.columns"
   ]
  },
  {
   "cell_type": "markdown",
   "metadata": {},
   "source": [
    "### Resources"
   ]
  },
  {
   "cell_type": "code",
   "execution_count": 272,
   "metadata": {},
   "outputs": [
    {
     "name": "stdout",
     "output_type": "stream",
     "text": [
      "No of unique resources: 59\n"
     ]
    }
   ],
   "source": [
    "print (\"No of unique resources: %d\" % (df.resource.value_counts().shape[0]))"
   ]
  },
  {
   "cell_type": "code",
   "execution_count": 273,
   "metadata": {},
   "outputs": [],
   "source": [
    "def getResourceNamespace(resource):\n",
    "    return resource.split('/')[0]\n",
    "\n",
    "def getResourceName(resource):\n",
    "    return \"/\".join(resource.split('/')[1:])"
   ]
  },
  {
   "cell_type": "code",
   "execution_count": 274,
   "metadata": {},
   "outputs": [],
   "source": [
    "df['ResourceNamespace'] = df['resource'].apply(lambda x: getResourceNamespace(x))\n",
    "df['ResourceName'] = df['resource'].apply(lambda x: getResourceName(x))"
   ]
  },
  {
   "cell_type": "code",
   "execution_count": 275,
   "metadata": {},
   "outputs": [
    {
     "name": "stdout",
     "output_type": "stream",
     "text": [
      "No of resource namespaces: 34\n",
      "No of resource name: 50\n"
     ]
    }
   ],
   "source": [
    "print (\"No of resource namespaces: %d\" % (df['ResourceNamespace'].value_counts().shape[0]))\n",
    "print (\"No of resource name: %d\" % (df['ResourceName'].value_counts().shape[0]))"
   ]
  },
  {
   "cell_type": "markdown",
   "metadata": {},
   "source": [
    "### Aggreagation Type"
   ]
  },
  {
   "cell_type": "code",
   "execution_count": 276,
   "metadata": {},
   "outputs": [
    {
     "name": "stdout",
     "output_type": "stream",
     "text": [
      "col_0             count\n",
      "Aggregation Type       \n",
      "Average             309\n",
      "Count                 5\n",
      "Last                  6\n",
      "Maximum             123\n",
      "Total               522\n"
     ]
    },
    {
     "data": {
      "text/plain": [
       "<matplotlib.axes._subplots.AxesSubplot at 0x2550bc9fcf8>"
      ]
     },
     "execution_count": 276,
     "metadata": {},
     "output_type": "execute_result"
    },
    {
     "data": {
      "image/png": "[encoded data removed]",
      "text/plain": [
       "<matplotlib.figure.Figure at 0x2550bc9f3c8>"
      ]
     },
     "metadata": {},
     "output_type": "display_data"
    }
   ],
   "source": [
    "ct = pd.crosstab(df['Aggregation Type'], 'count')\n",
    "print (ct)\n",
    "\n",
    "ct.plot(kind='bar', figsize=(10, 6))"
   ]
  },
  {
   "cell_type": "markdown",
   "metadata": {},
   "source": [
    "### Unit"
   ]
  },
  {
   "cell_type": "code",
   "execution_count": 277,
   "metadata": {},
   "outputs": [
    {
     "name": "stdout",
     "output_type": "stream",
     "text": [
      "col_0           count\n",
      "Unit                 \n",
      "Bytes             125\n",
      "BytesPerSecond     37\n",
      "Count             637\n",
      "CountPerSecond     29\n",
      "MilliSeconds        2\n",
      "Milliseconds       24\n",
      "Percent            80\n",
      "Seconds            31\n"
     ]
    },
    {
     "data": {
      "text/plain": [
       "<matplotlib.axes._subplots.AxesSubplot at 0x2550bcaf4a8>"
      ]
     },
     "execution_count": 277,
     "metadata": {},
     "output_type": "execute_result"
    },
    {
     "data": {
      "image/png": "[encoded data removed]",
      "text/plain": [
       "<matplotlib.figure.Figure at 0x2550b9f77b8>"
      ]
     },
     "metadata": {},
     "output_type": "display_data"
    }
   ],
   "source": [
    "ct = pd.crosstab(df['Unit'], 'count')\n",
    "print (ct)\n",
    "\n",
    "ct.plot(kind='bar', figsize=(10, 6))"
   ]
  },
  {
   "cell_type": "markdown",
   "metadata": {},
   "source": [
    "### Metric & Metric Display Name\n",
    "\n",
    "It seems more everyone has configured the metric name differently - let's see if we can use charecter level (n-gram) vectorization to cluster similar ones;"
   ]
  },
  {
   "cell_type": "code",
   "execution_count": 287,
   "metadata": {},
   "outputs": [],
   "source": [
    "df['MetricProcessed'] = df['Metric'].apply(lambda x: ''.join(ch for ch in x.lower() if ch.isalpha()))"
   ]
  },
  {
   "cell_type": "code",
   "execution_count": 289,
   "metadata": {},
   "outputs": [
    {
     "name": "stdout",
     "output_type": "stream",
     "text": [
      "No of metrics before pre-processing: 752\n",
      "No of metrics after pre-processing: 583\n"
     ]
    }
   ],
   "source": [
    "import re\n",
    "metric = df['Metric'].values\n",
    "metric = np.unique(np.array(metric))\n",
    "\n",
    "print (\"No of metrics before pre-processing: %d\" % metric.shape[0])\n",
    "for i, m in enumerate(metric):\n",
    "    metric[i] = ''.join(ch for ch in m.lower() if ch.isalpha())\n",
    "\n",
    "metric = np.unique(np.array(metric))\n",
    "print (\"No of metrics after pre-processing: %d\" % metric.shape[0])"
   ]
  },
  {
   "cell_type": "code",
   "execution_count": 290,
   "metadata": {},
   "outputs": [
    {
     "data": {
      "text/plain": [
       "(583, 4473)"
      ]
     },
     "execution_count": 290,
     "metadata": {},
     "output_type": "execute_result"
    }
   ],
   "source": [
    "cv = CountVectorizer(analyzer='char', ngram_range=(1,4))\n",
    "vectors = cv.fit_transform(metric)\n",
    "vectors = vectors.toarray()\n",
    "vectors.shape"
   ]
  },
  {
   "cell_type": "code",
   "execution_count": 291,
   "metadata": {},
   "outputs": [],
   "source": [
    "cluster = DBSCAN(eps=4.5, min_samples=2)\n",
    "cluster.fit(vectors)\n",
    "\n",
    "mdf = pd.DataFrame(metric, columns=['metric'])\n",
    "mdf['label'] = cluster.labels_\n",
    "# mdf['label'].value_counts()"
   ]
  },
  {
   "cell_type": "code",
   "execution_count": 292,
   "metadata": {
    "scrolled": true
   },
   "outputs": [
    {
     "name": "stdout",
     "output_type": "stream",
     "text": [
      "No of clusters: 58\n",
      "label 0\n",
      "              metric  label\n",
      "22      availability      0\n",
      "217  dipavailability      0\n",
      "574  vipavailability      0\n",
      "\n",
      "label 1\n",
      "                        metric  label\n",
      "23      averageavailablembytes      1\n",
      "25  averageavailablembytesswap      1\n",
      "\n",
      "label 2\n",
      "                      metric  label\n",
      "39  averagediskwritebytessec      2\n",
      "40      averagediskwritessec      2\n",
      "\n",
      "label 3\n",
      "                      metric  label\n",
      "57  averagepctprivilegedtime      3\n",
      "60     averageprivilegedtime      3\n",
      "\n",
      "label 4\n",
      "                  metric  label\n",
      "73  averagetotalrxerrors      4\n",
      "74  averagetotaltxerrors      4\n",
      "\n",
      "label 5\n",
      "                     metric  label\n",
      "79  averageusedmemorykbytes      5\n",
      "80  averageusedmemorymbytes      5\n",
      "\n",
      "label 6\n",
      "             metric  label\n",
      "83     averageusers      6\n",
      "84  averageusertime      6\n",
      "\n",
      "label 7\n",
      "            metric  label\n",
      "90    blobcapacity      7\n",
      "105       capacity      7\n",
      "255   filecapacity      7\n",
      "503  tablecapacity      7\n",
      "568   usedcapacity      7\n",
      "\n",
      "label 8\n",
      "                  metric  label\n",
      "95      bytesdroppedddos      8\n",
      "509  tcpbytesdroppedddos      8\n",
      "558  udpbytesdroppedddos      8\n",
      "\n",
      "label 9\n",
      "                    metric  label\n",
      "96      bytesforwardedddos      9\n",
      "510  tcpbytesforwardedddos      9\n",
      "559  udpbytesforwardedddos      9\n",
      "\n",
      "label 10\n",
      "             metric  label\n",
      "97      bytesinddos     10\n",
      "511  tcpbytesinddos     10\n",
      "560  udpbytesinddos     10\n",
      "\n",
      "label 11\n",
      "                metric  label\n",
      "117  cdtwinreadfailure     11\n",
      "202  dctwinreadfailure     11\n",
      "\n",
      "label 12\n",
      "             metric  label\n",
      "118  cdtwinreadsize     12\n",
      "203  dctwinreadsize     12\n",
      "\n",
      "label 13\n",
      "                metric  label\n",
      "119  cdtwinreadsuccess     13\n",
      "204  dctwinreadsuccess     13\n",
      "\n",
      "label 14\n",
      "                  metric  label\n",
      "120  cdtwinupdatefailure     14\n",
      "205  dctwinupdatefailure     14\n",
      "\n",
      "label 15\n",
      "               metric  label\n",
      "121  cdtwinupdatesize     15\n",
      "206  dctwinupdatesize     15\n",
      "\n",
      "label 16\n",
      "                  metric  label\n",
      "122  cdtwinupdatesuccess     16\n",
      "207  dctwinupdatesuccess     16\n",
      "\n",
      "label 17\n",
      "                metric  label\n",
      "134   connectionfailed     17\n",
      "136  connectionsfailed     17\n",
      "\n",
      "label 18\n",
      "            metric  label\n",
      "144     cpupercent     18\n",
      "145  cpupercentage     18\n",
      "230   dwcpupercent     18\n",
      "406  percentagecpu     18\n",
      "\n",
      "label 19\n",
      "     metric  label\n",
      "148  cpuxns     19\n",
      "581   wsxns     19\n",
      "\n",
      "label 20\n",
      "      metric  label\n",
      "153   datain     20\n",
      "154  dataout     20\n",
      "\n",
      "label 21\n",
      "                            metric  label\n",
      "161       dcendpointsegressstorage     21\n",
      "163  dcendpointsegressstoragebytes     21\n",
      "\n",
      "label 22\n",
      "               metric  label\n",
      "219     diskreadbytes     22\n",
      "220  diskreadbytessec     22\n",
      "\n",
      "label 23\n",
      "                metric  label\n",
      "222     diskwritebytes     23\n",
      "223  diskwritebytessec     23\n",
      "\n",
      "label 24\n",
      "                    metric  label\n",
      "226  dtuconsumptionpercent     24\n",
      "232  dwuconsumptionpercent     24\n",
      "293   ioconsumptionpercent     24\n",
      "\n",
      "label 25\n",
      "        metric  label\n",
      "227   dtulimit     25\n",
      "233   dwulimit     25\n",
      "236  edtulimit     25\n",
      "\n",
      "label 26\n",
      "       metric  label\n",
      "228   dtuused     26\n",
      "234   dwuused     26\n",
      "237  edtuused     26\n",
      "\n",
      "label 27\n",
      "            metric  label\n",
      "229       duration     27\n",
      "427  queryduration     27\n",
      "\n",
      "label 28\n",
      "                        metric  label\n",
      "231  dwphysicaldatareadpercent     28\n",
      "408    physicaldatareadpercent     28\n",
      "\n",
      "label 29\n",
      "               metric  label\n",
      "235  earlyinputevents     29\n",
      "283       inputevents     29\n",
      "313   lateinputevents     29\n",
      "401      outputevents     29\n",
      "\n",
      "label 30\n",
      "      metric  label\n",
      "238   egress     30\n",
      "280  ingress     30\n",
      "\n",
      "label 31\n",
      "        metric  label\n",
      "239      ehabl     31\n",
      "240     ehambs     31\n",
      "241    ehamsgs     31\n",
      "243    ehinmbs     31\n",
      "244   ehinmsgs     31\n",
      "246   ehoutmbs     31\n",
      "247  ehoutmsgs     31\n",
      "281     inmsgs     31\n",
      "400    outmsgs     31\n",
      "\n",
      "label 32\n",
      "           metric  label\n",
      "249        errors     32\n",
      "474  servererrors     32\n",
      "571    usererrors     32\n",
      "\n",
      "label 33\n",
      "         metric  label\n",
      "253  failedruns     33\n",
      "460  runsfailed     33\n",
      "\n",
      "label 34\n",
      "         metric  label\n",
      "256   filecount     34\n",
      "504  tablecount     34\n",
      "\n",
      "label 35\n",
      "          metric  label\n",
      "261  getcommands     35\n",
      "480  setcommands     35\n",
      "\n",
      "label 36\n",
      "                 metric  label\n",
      "263    healthyhostcount     36\n",
      "565  unhealthyhostcount     36\n",
      "\n",
      "label 37\n",
      "     metric  label\n",
      "265    http     37\n",
      "267  httpxx     37\n",
      "\n",
      "label 38\n",
      "            metric  label\n",
      "272       incoming     38\n",
      "275  incomingbytes     38\n",
      "\n",
      "label 39\n",
      "                  metric  label\n",
      "294  jobauendedcancelled     39\n",
      "297    jobendedcancelled     39\n",
      "\n",
      "label 40\n",
      "                metric  label\n",
      "295  jobauendedfailure     40\n",
      "298    jobendedfailure     40\n",
      "\n",
      "label 41\n",
      "                metric  label\n",
      "296  jobauendedsuccess     41\n",
      "299    jobendedsuccess     41\n",
      "\n",
      "label 42\n",
      "         metric  label\n",
      "314     latency     42\n",
      "456  runlatency     42\n",
      "\n",
      "label 43\n",
      "               metric  label\n",
      "334     memorypercent     43\n",
      "335  memorypercentage     43\n",
      "\n",
      "label 44\n",
      "         metric  label\n",
      "345   networkin     44\n",
      "346  networkout     44\n",
      "\n",
      "label 45\n",
      "            metric  label\n",
      "352  otherrequests     45\n",
      "438   readrequests     45\n",
      "449       requests     45\n",
      "580  writerequests     45\n",
      "\n",
      "label 46\n",
      "                     metric  label\n",
      "358  outgoingapnsbadchannel     46\n",
      "377  outgoingmpnsbadchannel     46\n",
      "\n",
      "label 47\n",
      "                             metric  label\n",
      "360  outgoingapnsinvalidcredentials     47\n",
      "380  outgoingmpnsinvalidcredentials     47\n",
      "\n",
      "label 48\n",
      "                   metric  label\n",
      "362  outgoingapnspnserror     48\n",
      "382  outgoingmpnspnserror     48\n",
      "\n",
      "label 49\n",
      "                  metric  label\n",
      "363  outgoingapnssuccess     49\n",
      "383  outgoingmpnssuccess     49\n",
      "\n",
      "label 50\n",
      "                    metric  label\n",
      "403     packetsdroppedddos     50\n",
      "512  tcppacketsdroppedddos     50\n",
      "561  udppacketsdroppedddos     50\n",
      "\n",
      "label 51\n",
      "                      metric  label\n",
      "404     packetsforwardedddos     51\n",
      "513  tcppacketsforwardedddos     51\n",
      "562  udppacketsforwardedddos     51\n",
      "\n",
      "label 52\n",
      "               metric  label\n",
      "405     packetsinddos     52\n",
      "514  tcppacketsinddos     52\n",
      "563  udppacketsinddos     52\n",
      "\n",
      "label 53\n",
      "                             metric  label\n",
      "423  processingpooliojobqueuelength     53\n",
      "424    processingpooljobqueuelength     53\n",
      "\n",
      "label 54\n",
      "          metric  label\n",
      "490      storage     54\n",
      "493  storageused     54\n",
      "\n",
      "label 55\n",
      "                metric  label\n",
      "492     storagepercent     55\n",
      "582  xtpstoragepercent     55\n",
      "\n",
      "label 56\n",
      "                metric  label\n",
      "531      totalrequests     56\n",
      "532  totalrequestunits     56\n",
      "\n"
     ]
    }
   ],
   "source": [
    "print (\"No of clusters: %d\" % (mdf['label'].max() + 1))\n",
    "for i in range(mdf['label'].max()):\n",
    "    print (\"label %d\" % i)\n",
    "    print (mdf[mdf['label'] == i])\n",
    "    print ()"
   ]
  },
  {
   "cell_type": "code",
   "execution_count": 293,
   "metadata": {},
   "outputs": [
    {
     "data": {
      "image/png": "[encoded data removed]",
      "text/plain": [
       "<matplotlib.figure.Figure at 0x2550c59d7b8>"
      ]
     },
     "metadata": {},
     "output_type": "display_data"
    }
   ],
   "source": [
    "vectors_reduced = TSNE(n_components=2).fit_transform(vectors)\n",
    "cmap = sns.cubehelix_palette(light=1, as_cmap=True)\n",
    "plt.figure(figsize=(15, 15))\n",
    "cluster.labels_ + 100\n",
    "\n",
    "scatter = plt.scatter(vectors_reduced[:, 0], vectors_reduced[:, 1], label=cluster.labels_, c=cluster.labels_, cmap=cmap)"
   ]
  },
  {
   "cell_type": "code",
   "execution_count": 307,
   "metadata": {},
   "outputs": [],
   "source": [
    "md = {}\n",
    "for i, key in enumerate(metric):\n",
    "    md[key] = i\n",
    "\n",
    "cindex = {}\n",
    "def getClusteredMetric(metric):\n",
    "    i = cluster.labels_[md[metric]]\n",
    "    if (i == -1):\n",
    "        return metric\n",
    "    \n",
    "    if i in cindex:\n",
    "        return cindex[i]\n",
    "    else:\n",
    "        cindex[i] = metric\n",
    "        return metric"
   ]
  },
  {
   "cell_type": "code",
   "execution_count": 308,
   "metadata": {},
   "outputs": [],
   "source": [
    "j = -1\n",
    "df['MetricClustered'] = df['MetricProcessed'].apply(lambda x: getClusteredMetric(x))"
   ]
  },
  {
   "cell_type": "code",
   "execution_count": 311,
   "metadata": {},
   "outputs": [
    {
     "data": {
      "text/plain": [
       "Index(['Aggregation Type', 'Description', 'Dimensions', 'Metric',\n",
       "       'Metric Display Name', 'Unit', 'resource', 'ResourceNamespace',\n",
       "       'ResourceName', 'MetricProcessed', 'MetricClustered'],\n",
       "      dtype='object')"
      ]
     },
     "execution_count": 311,
     "metadata": {},
     "output_type": "execute_result"
    }
   ],
   "source": [
    "df.columns"
   ]
  },
  {
   "cell_type": "code",
   "execution_count": 326,
   "metadata": {
    "collapsed": true
   },
   "outputs": [],
   "source": [
    "_ct = pd.crosstab(df['resource'], df['MetricClustered'])"
   ]
  },
  {
   "cell_type": "code",
   "execution_count": 338,
   "metadata": {},
   "outputs": [
    {
     "data": {
      "text/plain": [
       "array([ 7,  0,  0, 16,  1, 13, 13,  2, 13, 13, 13,  0, 18,  2,  2,  0,  0,\n",
       "        0,  0,  0,  4,  4,  0,  0,  6,  0, 17,  0,  0, 15,  0,  0,  0,  0,\n",
       "        0, 10,  0,  0,  5,  9,  0,  0,  0, 11,  0,  8,  8, 14, 14, 14, 14,\n",
       "       14, 12,  3,  0,  0, 19,  0, 19])"
      ]
     },
     "execution_count": 338,
     "metadata": {},
     "output_type": "execute_result"
    }
   ],
   "source": [
    "clstr = KMeans(n_clusters=20)\n",
    "clstr.fit(_ct.values)\n",
    "labels = clstr.labels_\n",
    "labels"
   ]
  },
  {
   "cell_type": "code",
   "execution_count": 351,
   "metadata": {
    "scrolled": false
   },
   "outputs": [
    {
     "name": "stdout",
     "output_type": "stream",
     "text": [
      "LABEL 0\n",
      "1                       Microsoft.ApiManagement/service\n",
      "2               Microsoft.Automation/automationAccounts\n",
      "11          Microsoft.ContainerInstance/containerGroups\n",
      "15                  Microsoft.DataFactory/datafactories\n",
      "16                      Microsoft.DataFactory/factories\n",
      "17                 Microsoft.DataLakeAnalytics/accounts\n",
      "18                     Microsoft.DataLakeStore/accounts\n",
      "19                       Microsoft.Devices/ElasticPools\n",
      "22               Microsoft.Devices/provisioningServices\n",
      "23                Microsoft.DocumentDB/databaseAccounts\n",
      "25                         Microsoft.HDInsight/clusters\n",
      "27                            Microsoft.KeyVault/vaults\n",
      "28             Microsoft.LocationBasedServices/accounts\n",
      "30                Microsoft.Network/applicationGateways\n",
      "31                           Microsoft.Network/dnszones\n",
      "32               Microsoft.Network/expressRouteCircuits\n",
      "33                      Microsoft.Network/loadBalancers\n",
      "34    Microsoft.Network/networkWatchers/connectionMo...\n",
      "36             Microsoft.Network/trafficManagerProfiles\n",
      "37             Microsoft.Network/virtualNetworkGateways\n",
      "40                Microsoft.PowerBIDedicated/capacities\n",
      "41                           Microsoft.Relay/namespaces\n",
      "42                      Microsoft.Search/searchServices\n",
      "44                                Microsoft.Sql/servers\n",
      "54        Microsoft.Web/hostingEnvironments/workerPools\n",
      "55                            Microsoft.Web/serverfarms\n",
      "57                      Microsoft.Web/sites (functions)\n",
      "Name: resource, dtype: object\n",
      "--------------------------------------------------\n",
      "LABEL 1\n",
      "4    Microsoft.Cache/redis\n",
      "Name: resource, dtype: object\n",
      "--------------------------------------------------\n",
      "LABEL 2\n",
      "7     Microsoft.CognitiveServices/accounts\n",
      "13            Microsoft.DBforMySQL/servers\n",
      "14       Microsoft.DBforPostgreSQL/servers\n",
      "Name: resource, dtype: object\n",
      "--------------------------------------------------\n",
      "LABEL 3\n",
      "53    Microsoft.Web/hostingEnvironments/multiRolePools\n",
      "Name: resource, dtype: object\n",
      "--------------------------------------------------\n",
      "LABEL 4\n",
      "20    Microsoft.Devices/ElasticPools/IotHubTenants\n",
      "21                       Microsoft.Devices/IotHubs\n",
      "Name: resource, dtype: object\n",
      "--------------------------------------------------\n",
      "LABEL 5\n",
      "38    Microsoft.NotificationHubs/Namespaces/Notifica...\n",
      "Name: resource, dtype: object\n",
      "--------------------------------------------------\n",
      "LABEL 6\n",
      "24    Microsoft.EventHub/namespaces\n",
      "Name: resource, dtype: object\n",
      "--------------------------------------------------\n",
      "LABEL 7\n",
      "0    Microsoft.AnalysisServices/servers\n",
      "Name: resource, dtype: object\n",
      "--------------------------------------------------\n",
      "LABEL 8\n",
      "45       Microsoft.Sql/servers/databases\n",
      "46    Microsoft.Sql/servers/elasticPools\n",
      "Name: resource, dtype: object\n",
      "--------------------------------------------------\n",
      "LABEL 9\n",
      "39    Microsoft.OperationalInsights/workspaces\n",
      "Name: resource, dtype: object\n",
      "--------------------------------------------------\n",
      "LABEL 10\n",
      "35    Microsoft.Network/publicIPAddresses\n",
      "Name: resource, dtype: object\n",
      "--------------------------------------------------\n",
      "LABEL 11\n",
      "43    Microsoft.ServiceBus/namespaces\n",
      "Name: resource, dtype: object\n",
      "--------------------------------------------------\n",
      "LABEL 12\n",
      "52    Microsoft.StreamAnalytics/streamingjobs\n",
      "Name: resource, dtype: object\n",
      "--------------------------------------------------\n",
      "LABEL 13\n",
      "5      Microsoft.ClassicCompute/domainNames/slots/roles\n",
      "6              Microsoft.ClassicCompute/virtualMachines\n",
      "8             Microsoft.Compute/virtualMachineScaleSets\n",
      "9     Microsoft.Compute/virtualMachineScaleSets/virt...\n",
      "10                    Microsoft.Compute/virtualMachines\n",
      "Name: resource, dtype: object\n",
      "--------------------------------------------------\n",
      "LABEL 14\n",
      "47                  Microsoft.Storage/storageAccounts\n",
      "48     Microsoft.Storage/storageAccounts/blobServices\n",
      "49     Microsoft.Storage/storageAccounts/fileServices\n",
      "50    Microsoft.Storage/storageAccounts/queueServices\n",
      "51    Microsoft.Storage/storageAccounts/tableServices\n",
      "Name: resource, dtype: object\n",
      "--------------------------------------------------\n",
      "LABEL 15\n",
      "29    Microsoft.Logic/workflows\n",
      "Name: resource, dtype: object\n",
      "--------------------------------------------------\n",
      "LABEL 16\n",
      "3    Microsoft.Batch/batchAccounts\n",
      "Name: resource, dtype: object\n",
      "--------------------------------------------------\n",
      "LABEL 17\n",
      "26    Microsoft.Insights/AutoscaleSettings\n",
      "Name: resource, dtype: object\n",
      "--------------------------------------------------\n",
      "LABEL 18\n",
      "12    Microsoft.CustomerInsights/hubs\n",
      "Name: resource, dtype: object\n",
      "--------------------------------------------------\n"
     ]
    }
   ],
   "source": [
    "_df1 = pd.DataFrame(data=_ct.index)\n",
    "_df1['labels'] = labels\n",
    "for i in range(_df1['labels'].max()):\n",
    "    print (\"LABEL %d\" % i)\n",
    "    print (_df[_df['labels'] == i]['resource'])\n",
    "    print ('--------------------------------------------------')"
   ]
  }
 ],
 "metadata": {
  "kernelspec": {
   "display_name": "Python 3",
   "language": "python",
   "name": "python3"
  },
  "language_info": {
   "codemirror_mode": {
    "name": "ipython",
    "version": 3
   },
   "file_extension": ".py",
   "mimetype": "text/x-python",
   "name": "python",
   "nbconvert_exporter": "python",
   "pygments_lexer": "ipython3",
   "version": "3.6.1"
  }
 },
 "nbformat": 4,
 "nbformat_minor": 2
}
