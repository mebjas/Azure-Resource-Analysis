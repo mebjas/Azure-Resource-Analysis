{
 "cells": [
  {
   "cell_type": "markdown",
   "metadata": {},
   "source": [
    "# Preprocessing\n",
    "Code to mine required data from the data downloaded from webpage"
   ]
  },
  {
   "cell_type": "code",
   "execution_count": 2,
   "metadata": {
    "collapsed": true
   },
   "outputs": [],
   "source": [
    "import numpy as np\n",
    "import pandas as pd\n",
    "import matplotlib.pyplot as plt\n",
    "import seaborn as sns\n",
    "\n",
    "%matplotlib inline"
   ]
  },
  {
   "cell_type": "code",
   "execution_count": 5,
   "metadata": {
    "collapsed": true
   },
   "outputs": [],
   "source": [
    "data = None\n",
    "with open (\"./dataset/dataset.raw.txt\", \"r\") as ifp:\n",
    "    data = ifp.read().split(\"\\n\")"
   ]
  },
  {
   "cell_type": "code",
   "execution_count": 9,
   "metadata": {
    "scrolled": false
   },
   "outputs": [],
   "source": [
    "currentResource = None\n",
    "cols = None\n",
    "dictionaryArray = []\n",
    "for row in data:\n",
    "    if len(row.split(',')) == 1:\n",
    "        currentResource = row\n",
    "        cols = None\n",
    "        continue\n",
    "    \n",
    "    if cols == None:\n",
    "        cols = row.split(',')\n",
    "        continue\n",
    "        \n",
    "    _data = {}\n",
    "    _data['resource'] = currentResource\n",
    "    for key, value in zip(cols, row.split(',')):\n",
    "        _data[key] = value\n",
    "\n",
    "    dictionaryArray.append(_data)"
   ]
  },
  {
   "cell_type": "code",
   "execution_count": 14,
   "metadata": {},
   "outputs": [],
   "source": [
    "df = pd.DataFrame(dictionaryArray)"
   ]
  },
  {
   "cell_type": "code",
   "execution_count": 17,
   "metadata": {},
   "outputs": [],
   "source": [
    "df.to_csv(\"dataset/dataset.csv\", index=False)"
   ]
  }
 ],
 "metadata": {
  "kernelspec": {
   "display_name": "Python 3",
   "language": "python",
   "name": "python3"
  },
  "language_info": {
   "codemirror_mode": {
    "name": "ipython",
    "version": 3
   },
   "file_extension": ".py",
   "mimetype": "text/x-python",
   "name": "python",
   "nbconvert_exporter": "python",
   "pygments_lexer": "ipython3",
   "version": "3.6.1"
  }
 },
 "nbformat": 4,
 "nbformat_minor": 2
}
